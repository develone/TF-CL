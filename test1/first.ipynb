%tensorflow_version 2.x
import tensorflow as tf
print (tf.version)
